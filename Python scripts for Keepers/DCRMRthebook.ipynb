{
 "cells": [
  {
   "cell_type": "code",
   "execution_count": null,
   "metadata": {},
   "outputs": [],
   "source": [
    "import pypandoc\n",
    "import os\n",
    "import docx\n",
    "from docxcompose.composer import Composer"
   ]
  },
  {
   "cell_type": "code",
   "execution_count": null,
   "metadata": {},
   "outputs": [],
   "source": [
    "pwd"
   ]
  },
  {
   "cell_type": "code",
   "execution_count": null,
   "metadata": {},
   "outputs": [],
   "source": [
    "directory = ''\n",
    "print(directory)"
   ]
  },
  {
   "cell_type": "code",
   "execution_count": null,
   "metadata": {},
   "outputs": [],
   "source": [
    "for file in os.listdir(directory):\n",
    "    if file.endswith(\".md\"):\n",
    "        output = pypandoc.convert_file(\n",
    "            file, \n",
    "            to='docx', \n",
    "            format='markdown_github',\n",
    "            outputfile= file +'.docx',\n",
    "            extra_args=['-V', '--title',\n",
    "                        '-V', 'Heading 1=Lora',\n",
    "                        '-V', 'Heading 2=Lora',\n",
    "                        '-V', '--gfm_auto_identifiers',\n",
    "                        '-V', '--native_numbering',\n",
    "                        '-V', '--yaml_metadata_block',\n",
    "                        '-V', '--toc-title']\n",
    "        )\n",
    "        print(file)\n",
    "    else:\n",
    "        continue\n"
   ]
  },
  {
   "cell_type": "code",
   "execution_count": null,
   "metadata": {},
   "outputs": [],
   "source": [
    "from docx import Document\n",
    "\n",
    "files = ['preface.md.docx', 'Background.md.docx', 'Changes-from-DCRM(B).md.docx','Future-work.md.docx', 'Acknowledgments.md.docx', 'Membership-roster.md.docx', \n",
    "         'Introduction.md.docx', 'General-Rules.md.docx', 'Data-provenance.md.docx', 'Prescribed-punctuation.md.docx', \n",
    "         'Language-and-script-of-the-description.md.docx', 'Transcription.md.docx', 'Title.md.docx', \n",
    "         'Title-of-manifestation.md.docx', 'Title-proper.md.docx', 'Parallel-title-proper.md.docx', \n",
    "         'Other-title-information.md.docx', 'Parallel-other-title-information.md.docx', 'Variant-title-of-manifestation.md.docx', \n",
    "         'Title-of-item.md.docx', 'Note-on-title.md.docx','SOR.md.docx', 'Statement-of-responsibility-relating-to-title-proper.md.docx',\n",
    "         'Parallel-statement-of-responsibility-relating-to-title-proper.md.docx', 'Note-on-statement-of-responsibility.md.docx',\n",
    "         'Edition.md.docx','Edition-statement.md.docx',\n",
    "         'Designation-of-edition.md.docx','Parallel-designation-of-edition.md.docx',\n",
    "         'Statement-of-responsibility-relating-to-edition.md.docx', 'Parallel-statement-of-responsibility-relating-to-edition.md.docx', \n",
    "         'Designation-of-named-revision-of-edition.md.docx', 'Parallel-designation-of-named-revision-of-edition.md.docx', \n",
    "         'Statement-of-responsibility-relating-to-named-revision-of-edition.md.docx', \n",
    "         'Parallel-statement-of-responsibility-relating-to-named-revision-of-edition.md.docx','Note-on-edition-statement.md.docx', \n",
    "         'mathematical-details.md.docx', 'Details-of-cartographic-content.md.docx',\n",
    "         'PPDM.md.docx', 'Production-statement.md.docx', 'Publication-statement.md.docx','Place-of-publication.md.docx','Parallel-place-of-publication.md.docx',\n",
    "         'Name-of-publisher.md.docx','Parallel-name-of-publisher.md.docx','Date-of-publication.md.docx',\n",
    "         'Note-on-publication-statement.md.docx','Distribution-statement.md.docx','Place-of-distribution.md.docx',\n",
    "         'Parallel-place-of-distribution.md.docx','Name-of-distributor.md.docx','Parallel-name-of-distributor.md.docx',\n",
    "         'Date-of-distribution.md.docx','Note-on-distribution-statement.md.docx','Manufacture-statement.md.docx',\n",
    "         'Place-of-manufacture.md.docx','Parallel-place-of-manufacture.md.docx','Name-of-manufacturer.md.docx',\n",
    "         'Parallel-name-of-manufacturer.md.docx','Date-of-manufacture.md.docx','Note-on-manufacture-statement.md.docx',\n",
    "         'Copyright-date.md.docx','Note-on-copyright-date.md.docx','Phys-desc.md.docx','Extent-of-manifestation.md.docx',\n",
    "         'Note-on-extent-of-manifestation.md.docx','Illustrative-content.md.docx','Details-of-illustrative-content.md.docx',\n",
    "         'Color-content.md.docx','Details-of-color-content.md.docx','Dimensions.md.docx','Note-on-dimensions-of-manifestation.md.docx',\n",
    "         'Base-material.md.docx','Details-of-base-material.md.docx','Applied-material.md.docx','Details-of-applied-material.md.docx',\n",
    "         'Production-method.md.docx','Details-of-production-method.md.docx','Layout.md.docx','Details-of-layout.md.docx',\n",
    "         'Bibliographic-format.md.docx','Details-of-bibliographic-format.md.docx','Font-size.md.docx','Details-of-font-size.md.docx',\n",
    "         'Type-of-binding.md.docx','Content-type.md.docx','Media-type.md.docx','Carrier-type.md.docx','Note-on-carrier.md.docx',\n",
    "         'numbering-of-serials.md.docx','Numbering-of-sequence.md.docx',\n",
    "         'Series.md.docx','Series-statement.md.docx','Title-of-series.md.docx','Parallel-title-of-series.md.docx',\n",
    "         'Other-title-information-of-series.md.docx','Parallel-other-title-information-of-series.md.docx',\n",
    "         'Statement-of-responsibility-relating-to-series.md.docx','Parallel-statement-of-responsibility-relating-to-series.md.docx',\n",
    "         'Numbering-within-sequence.md.docx','Note-on-series-statement.md.docx',\n",
    "         'additional-notes.md.docx','Note-on-RDA-entity.md.docx','Note-on-work.md.docx','Dissertation-or-thesis-information.md.docx',\n",
    "         'Academic-degree.md.docx','Degree-granting-institution.md.docx','Year-degree-granted.md.docx',\n",
    "         'Note-on-expression.md.docx','Language-of-expression.md.docx','Script.md.docx','Details-of-script.md.docx',\n",
    "         'Summarization-of-content.md.docx','Note-on-manifestation.md.docx','Manifestation-described-by.md.docx',\n",
    "         'Supplementary-content.md.docx','On-carrier-unit-with.md.docx','Related-manifestation-of-manifestation.md.doc','Note-on-item.md.docx','Modification-of-item.md.docx',\n",
    "         'Custodial-history-of-item.md.docx','Immediate-source-of-acquisition-of-item.md.docx','Note-on-extent-of-item.md.docx','Note-on-dimensions-of-item.md.docx',\n",
    "         'Bound-with.md.docx','Identifiers.md.docx','Identifier-for-manifestation.md.docx','Fingerprint.md.docx',\n",
    "         'Term-of-availability.md.docx','Note-on-identifier-for-manifestation.md.docx', 'Appendices.md.docx',\n",
    "         'Appendix-a.md.docx', 'Appendix-b.md.docx','Appendix-c.md.docx','Appendix-d.md.docx','Appendix-e.md.docx',\n",
    "         'Appendix-h.md.docx','Appendix-j.md.docx','Appendix-k.md.docx', 'Glossary.md.docx', 'Changelog.md.docx']\n",
    "composed = \"_composed.docx\"\n",
    "\n",
    "result = Document(files[0])\n",
    "result.add_page_break()\n",
    "composer = Composer(result)\n",
    "\n",
    "for i in range(1, len(files)):\n",
    "    doc = Document(files[i])\n",
    "\n",
    "    if i != len(files) - 1:\n",
    "        doc.add_page_break()\n",
    "\n",
    "    composer.append(doc)\n",
    "\n",
    "composer.save(composed)\n"
   ]
  },
  {
   "cell_type": "code",
   "execution_count": null,
   "metadata": {},
   "outputs": [],
   "source": []
  }
 ],
 "metadata": {
  "kernelspec": {
   "display_name": "Python 3 (ipykernel)",
   "language": "python",
   "name": "python3"
  },
  "language_info": {
   "codemirror_mode": {
    "name": "ipython",
    "version": 3
   },
   "file_extension": ".py",
   "mimetype": "text/x-python",
   "name": "python",
   "nbconvert_exporter": "python",
   "pygments_lexer": "ipython3",
   "version": "3.11.5"
  }
 },
 "nbformat": 4,
 "nbformat_minor": 4
}
